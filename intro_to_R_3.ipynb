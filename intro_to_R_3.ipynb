{
 "cells": [
  {
   "cell_type": "markdown",
   "metadata": {},
   "source": [
    "# Introduction to R - Part 3\n",
    "In this final par of Introduction to R we will look at more in-depth data analysis and reporting techniques. We will cover:  \n",
    "1. Performing further statistical analysis on data frames\n",
    "2. Linear regression and ANOVA \n",
    "3. Some ways of reporting your findings"
   ]
  },
  {
   "cell_type": "markdown",
   "metadata": {},
   "source": [
    "# Performing statistical analysis on data frames\n",
    "R has functions for most statistical tests imaginable (and quite a lot more besides). We'll illustrate some of these using the NAFLD data set from before."
   ]
  },
  {
   "cell_type": "code",
   "execution_count": 3,
   "metadata": {
    "scrolled": false
   },
   "outputs": [
    {
     "name": "stderr",
     "output_type": "stream",
     "text": [
      "Registered S3 method overwritten by 'rvest':\n",
      "  method            from\n",
      "  read_xml.response xml2\n",
      "-- Attaching packages ------------------------------------------------------------------------------- tidyverse 1.2.1 --\n",
      "v ggplot2 3.3.3       v purrr   0.3.2  \n",
      "v tibble  2.1.1       v dplyr   0.8.0.1\n",
      "v tidyr   0.8.3       v stringr 1.4.0  \n",
      "v readr   1.3.1       v forcats 0.4.0  \n",
      "Warning message:\n",
      "\"package 'ggplot2' was built under R version 3.6.3\"-- Conflicts ---------------------------------------------------------------------------------- tidyverse_conflicts() --\n",
      "x dplyr::filter() masks stats::filter()\n",
      "x dplyr::lag()    masks stats::lag()\n",
      "Parsed with column specification:\n",
      "cols(\n",
      "  .default = col_double(),\n",
      "  country = col_character(),\n",
      "  continent = col_character(),\n",
      "  centre = col_character(),\n",
      "  gender = col_character(),\n",
      "  dm2 = col_character(),\n",
      "  bx_date = col_character(),\n",
      "  te_date = col_character(),\n",
      "  probe = col_character()\n",
      ")\n",
      "See spec(...) for full column specifications.\n"
     ]
    }
   ],
   "source": [
    "library(\"tidyverse\")\n",
    "nafldDataset <- read_csv(\"nafld_dataset2.csv\")"
   ]
  },
  {
   "cell_type": "code",
   "execution_count": 5,
   "metadata": {},
   "outputs": [
    {
     "data": {
      "text/html": [
       "53.5194805194805"
      ],
      "text/latex": [
       "53.5194805194805"
      ],
      "text/markdown": [
       "53.5194805194805"
      ],
      "text/plain": [
       "[1] 53.51948"
      ]
     },
     "metadata": {},
     "output_type": "display_data"
    },
    {
     "data": {
      "text/html": [
       "11.49440411863"
      ],
      "text/latex": [
       "11.49440411863"
      ],
      "text/markdown": [
       "11.49440411863"
      ],
      "text/plain": [
       "[1] 11.4944"
      ]
     },
     "metadata": {},
     "output_type": "display_data"
    },
    {
     "data": {
      "text/html": [
       "54"
      ],
      "text/latex": [
       "54"
      ],
      "text/markdown": [
       "54"
      ],
      "text/plain": [
       "[1] 54"
      ]
     },
     "metadata": {},
     "output_type": "display_data"
    },
    {
     "data": {
      "text/html": [
       "13"
      ],
      "text/latex": [
       "13"
      ],
      "text/markdown": [
       "13"
      ],
      "text/plain": [
       "[1] 13"
      ]
     },
     "metadata": {},
     "output_type": "display_data"
    }
   ],
   "source": [
    "# Let's compute the mean age in the patient group and the corresponding standard deviation\n",
    "mean(nafldDataset$age)\n",
    "sd(nafldDataset$age)\n",
    "\n",
    "# Now let's compute the median and IQR of age\n",
    "median(nafldDataset$age)\n",
    "IQR(nafldDataset$age)"
   ]
  },
  {
   "cell_type": "markdown",
   "metadata": {},
   "source": [
    "Let's now look at the mean and 95% confidence interval of the mean of patients' heights. We know that 95% confidence intervals can be estimated as: $$\\overline{x} \\pm t_{0.05, n-1}\\frac{s}{\\sqrt{n}}$$ where $n$ is the number of observations, $t_{0.05, n-1}$ is the two-tailed 5% t-value with $n-1$ degrees of freedom, $s$ is the standard devaition and $\\overline{x}$ is the mean of the observations."
   ]
  },
  {
   "cell_type": "code",
   "execution_count": 14,
   "metadata": {},
   "outputs": [
    {
     "name": "stdout",
     "output_type": "stream",
     "text": [
      "[1] 1.623360 1.645135 1.666910\n"
     ]
    },
    {
     "data": {
      "text/plain": [
       "\n",
       "\tOne Sample t-test\n",
       "\n",
       "data:  nafldDataset$height\n",
       "t = 150.57, df = 73, p-value < 2.2e-16\n",
       "alternative hypothesis: true mean is not equal to 0\n",
       "95 percent confidence interval:\n",
       " 1.62336 1.66691\n",
       "sample estimates:\n",
       "mean of x \n",
       " 1.645135 \n"
      ]
     },
     "metadata": {},
     "output_type": "display_data"
    }
   ],
   "source": [
    "m <- mean(nafldDataset$height, na.rm=TRUE)\n",
    "s <- sd(nafldDataset$height, na.rm=TRUE)\n",
    "n <- sum(!is.na(nafldDataset$height))\n",
    "\n",
    "# Calculate 95% confidence intervals of the mean height\n",
    "# qt is the \"quantiles\" of the t-distribution -- it's what is analogous to the tables in your exams \n",
    "lower <- m - qt(1 - 0.05/2, n - 1) * s / sqrt(n)\n",
    "upper <- m + qt(1 - 0.05/2, n - 1) * s / sqrt(n)\n",
    "print(c(lower, m, upper)) #This is the \"DIY maths\" way of doing it: \n",
    "\n",
    "#If we call a t.test function on one sample of numbers, it does a t-test that the mean is equal to zero (it isn't!) and will tell us the confidence limit too: \n",
    "t.test(nafldDataset$height) "
   ]
  },
  {
   "cell_type": "markdown",
   "metadata": {},
   "source": [
    "* **Q3.1:** Writing two extra lines all the time to calculate cofidence intervals is tedious, error-prone and boring. As a learning exercise, write a function that takes the mean, standard deviation and number of observation and returns a vector with two elements: the lower and upper boundary of the 95% confidence interval."
   ]
  },
  {
   "cell_type": "markdown",
   "metadata": {},
   "source": [
    "Performing t-tests in R is a simple task. While you can calculate the z-statistic of the test and compare it to the critical t-value determined from a t-distribution table, R offers a function that does all of this. Let's start with a single sample t-test to see whether the mean patient height is 1.7 m."
   ]
  },
  {
   "cell_type": "code",
   "execution_count": 49,
   "metadata": {
    "scrolled": true
   },
   "outputs": [
    {
     "data": {
      "text/plain": [
       "\n",
       "\tOne Sample t-test\n",
       "\n",
       "data:  nafldDataset$height\n",
       "t = -5.0216, df = 73, p-value = 3.509e-06\n",
       "alternative hypothesis: true mean is not equal to 1.7\n",
       "95 percent confidence interval:\n",
       " 1.62336 1.66691\n",
       "sample estimates:\n",
       "mean of x \n",
       " 1.645135 \n"
      ]
     },
     "metadata": {},
     "output_type": "display_data"
    }
   ],
   "source": [
    "t.test(nafldDataset$height, mu=1.7)"
   ]
  },
  {
   "cell_type": "markdown",
   "metadata": {},
   "source": [
    "Next, compare the heights between patients who have biopsy-derived fibrosis stage of 3 or higher and patients with fibrosis stage lower than 3. In this case ```t.test()``` will perform the unequal-variance, or Welch, two-sample t-test:"
   ]
  },
  {
   "cell_type": "code",
   "execution_count": 47,
   "metadata": {
    "scrolled": true
   },
   "outputs": [
    {
     "data": {
      "text/plain": [
       "\n",
       "\tWelch Two Sample t-test\n",
       "\n",
       "data:  nafldDataset$height[nafldDataset$bx_fib >= 3] and nafldDataset$height[nafldDataset$bx_fib < 3]\n",
       "t = -0.4461, df = 69.053, p-value = 0.6569\n",
       "alternative hypothesis: true difference in means is not equal to 0\n",
       "95 percent confidence interval:\n",
       " -0.05149005  0.03267017\n",
       "sample estimates:\n",
       "mean of x mean of y \n",
       " 1.639286  1.648696 \n"
      ]
     },
     "metadata": {},
     "output_type": "display_data"
    }
   ],
   "source": [
    "t.test(nafldDataset$height[nafldDataset$bx_fib>=3], nafldDataset$height[nafldDataset$bx_fib<3])"
   ]
  },
  {
   "cell_type": "markdown",
   "metadata": {},
   "source": [
    "Some of the patients underwent lifestyle change and weight-reduction surgery and had their serum ALT levels measured again 6 months after the surgery. We can use the paired t-test to assess whether the treatment made any change to patients' ALT levels, shown below:."
   ]
  },
  {
   "cell_type": "code",
   "execution_count": 1,
   "metadata": {},
   "outputs": [
    {
     "data": {
      "text/plain": [
       "\n",
       "\tPaired t-test\n",
       "\n",
       "data:  preSurgeryAlt and postSurgeryAlt\n",
       "t = 2.8846, df = 17, p-value = 0.01029\n",
       "alternative hypothesis: true difference in means is not equal to 0\n",
       "95 percent confidence interval:\n",
       "  4.118537 26.548130\n",
       "sample estimates:\n",
       "mean of the differences \n",
       "               15.33333 \n"
      ]
     },
     "metadata": {},
     "output_type": "display_data"
    }
   ],
   "source": [
    "preSurgeryAlt <- c(45, 141, 84, 22, 84, 54, 23, 32, 78, 26, 75, 68, 38, 73, 20, 158, 49, 44)\n",
    "postSurgeryAlt <- c(49, 78, 66, 34, 64, 43, 28, 29, 42, 24, 70, 41, 34, 52, 27, 87, 36, 34)\n",
    "t.test(preSurgeryAlt, postSurgeryAlt, paired=TRUE)"
   ]
  },
  {
   "cell_type": "markdown",
   "metadata": {},
   "source": [
    "Non-normally distributed data, or ranked or ordinal data, can easily be compared with non-parametric tests, such as the Wilcoxon rank sum test. For instance, when comparing another liver enzyme, aspartate aminotransferase (AST) levels between patients with fibrosis stages of more than 2 and patients with fibrosis stages of less than 3."
   ]
  },
  {
   "cell_type": "code",
   "execution_count": 4,
   "metadata": {
    "scrolled": true
   },
   "outputs": [
    {
     "name": "stderr",
     "output_type": "stream",
     "text": [
      "Warning message in wilcox.test.default(nafldDataset$ast[nafldDataset$bx_fib >= 3], :\n",
      "“cannot compute exact p-value with ties”"
     ]
    },
    {
     "data": {
      "text/plain": [
       "\n",
       "\tWilcoxon rank sum test with continuity correction\n",
       "\n",
       "data:  nafldDataset$ast[nafldDataset$bx_fib >= 3] and nafldDataset$ast[nafldDataset$bx_fib < 3]\n",
       "W = 815, p-value = 0.1246\n",
       "alternative hypothesis: true location shift is not equal to 0\n"
      ]
     },
     "metadata": {},
     "output_type": "display_data"
    }
   ],
   "source": [
    "wilcox.test(nafldDataset$ast[nafldDataset$bx_fib>=3], nafldDataset$ast[nafldDataset$bx_fib<3])"
   ]
  },
  {
   "cell_type": "markdown",
   "metadata": {},
   "source": [
    "As outlined previously, after collecting experimental data, we often want to see if there are relationships between variables. For instance, we may assume that there is a correlation between body mass index (BMI) and serum triglycerides. To find the correlation coefficient (and whether it is significantly different from 0) ```cor.test()``` can be used:"
   ]
  },
  {
   "cell_type": "code",
   "execution_count": 18,
   "metadata": {
    "scrolled": false
   },
   "outputs": [
    {
     "data": {
      "text/plain": [
       "\n",
       "\tPearson's product-moment correlation\n",
       "\n",
       "data:  nafldDataset$bmi[!is.na(nafldDataset$bmi) & !is.na(nafldDataset$tg)] and nafldDataset$tg[!is.na(nafldDataset$bmi) & !is.na(nafldDataset$tg)]\n",
       "t = -0.74332, df = 71, p-value = 0.4597\n",
       "alternative hypothesis: true correlation is not equal to 0\n",
       "95 percent confidence interval:\n",
       " -0.3116415  0.1451266\n",
       "sample estimates:\n",
       "       cor \n",
       "-0.0878747 \n"
      ]
     },
     "metadata": {},
     "output_type": "display_data"
    }
   ],
   "source": [
    "cor.test(nafldDataset$bmi[!is.na(nafldDataset$bmi) & !is.na(nafldDataset$tg)], \n",
    "    nafldDataset$tg[!is.na(nafldDataset$bmi) & !is.na(nafldDataset$tg)])  #This addressing selects complete cases for both datapoints"
   ]
  },
  {
   "cell_type": "markdown",
   "metadata": {},
   "source": [
    "There is only a very weak and non-significant correlation between BMI and triglycerides.  "
   ]
  },
  {
   "cell_type": "markdown",
   "metadata": {},
   "source": [
    "## Regression and Anova\n",
    "\n",
    "As outlined in the lectures, regression is a really, _really_ powerful tool in statistical analysis. Often that's because we want to do something that really is answering the question \"see if these two variables are linearly related\". Linear regression can easily be transformed by some more advanced Math-e-magic into a wonderful family of analysis techniques called ANOVA, or analysis of variation, that can answer more advanced statistical questions, however. \n",
    "\n",
    "Let's start with looking at simple linear regression, i.e. fitting the line $y=mx+c$ to a set of data. \n",
    "\n",
    "As an example, we will consider the possible linear relationship between serum ALT and AST in these patients. We may assume that there will be a positive correlation between these two variables. Let's see if that is true: we use the `lm()` command (for \"linear model\"), and pass it two things: data, and a statement like `ast ~ alt` which is saying \"$y \\sim x$\". The \"$m$\" and the \"$c$\" are both implicitly included by R. \n",
    "\n",
    "Once we've done the regression, we might want to do different things with the results. We can: \n",
    "* Get a summary of it \n",
    "* Predict new values using it, with the function `predict()`\n",
    "* Or otherwise investigate its contents, such as get a value of the coefficient ($m$) directly. "
   ]
  },
  {
   "cell_type": "code",
   "execution_count": 30,
   "metadata": {
    "scrolled": true
   },
   "outputs": [
    {
     "data": {
      "text/plain": [
       "\n",
       "Call:\n",
       "lm(formula = ast ~ alt, data = nafldDataset)\n",
       "\n",
       "Residuals:\n",
       "    Min      1Q  Median      3Q     Max \n",
       "-41.016  -7.044  -1.275   4.396  80.632 \n",
       "\n",
       "Coefficients:\n",
       "            Estimate Std. Error t value Pr(>|t|)    \n",
       "(Intercept) 13.00649    3.27711   3.969 0.000166 ***\n",
       "alt          0.48899    0.05098   9.593 1.28e-14 ***\n",
       "---\n",
       "Signif. codes:  0 ‘***’ 0.001 ‘**’ 0.01 ‘*’ 0.05 ‘.’ 0.1 ‘ ’ 1\n",
       "\n",
       "Residual standard error: 16.8 on 74 degrees of freedom\n",
       "  (1 observation deleted due to missingness)\n",
       "Multiple R-squared:  0.5543,\tAdjusted R-squared:  0.5482 \n",
       "F-statistic: 92.02 on 1 and 74 DF,  p-value: 1.275e-14\n"
      ]
     },
     "metadata": {},
     "output_type": "display_data"
    }
   ],
   "source": [
    "regressionRes <- lm(ast~alt, data=nafldDataset)\n",
    "summary(regressionRes)"
   ]
  },
  {
   "cell_type": "markdown",
   "metadata": {},
   "source": [
    "The \"`(intercept)`\" term corresponds to $c$ above; \"`alt`\" to $m$. \n",
    "\n",
    "So, there is a linear relationship with significant slope and intercept, however, not all variance is explained by this realtionship (as indicated by $R^2=0.5543$)."
   ]
  },
  {
   "cell_type": "markdown",
   "metadata": {},
   "source": [
    "* **Q3.2:**  Determine the mean and the 95% confidence interval on the mean of $\\gamma$-glutamyl transpeptidase (GGT or `ggt` here, an enzyme that catalyses aminoacid transport across cell membranes) in patients with fibrosis stage (`bx_fib`) less than 3 and in patients with fibrosis stage more than 3. Are the means different in these two patient groups?"
   ]
  },
  {
   "cell_type": "markdown",
   "metadata": {},
   "source": [
    "* **Q3.3:**  Is the mean liver stiffness measurement (`lsm`) different between patients who had a biopsy sample size shorter than 20 mm and patients who had a biopsy sample size longer than or equal to 20 mm?"
   ]
  },
  {
   "cell_type": "markdown",
   "metadata": {},
   "source": [
    "* **Q3.4:**  The fibrosis-4 score (FIB-4) has been shown to correlate well with fibrosis stage determined from liver biopsy, but has the advantage of being possible to determine from blood serum tests. It can be calculated as: FIB-4 = age × AST / (platelets x sqrt(ALT)), where AST and ALT are in units of IU/l, age is given in years and platelets in × 10<sup>9</sup>/l. Calculate the FIB-4 score for patients where all the variables are available. Is the mean FIB-4 different between patients with BMI < 40 kg/m<sup>2</sup> and patients with BMI &geq; 40 kg/m<sup>2</sup>.  \n",
    "FIB-4 should correlate with fibrosis stage: determine how strong that correlation is in patients of this data set."
   ]
  },
  {
   "cell_type": "markdown",
   "metadata": {},
   "source": [
    "### Plotting this line\n",
    "Graphical representation of experimental data is useful at least for two reasons: 1) it can serve as an exploratory analysis tool whereby it allows the initial identification of possible relationships between variables; and 2) it can help convey a message in scientific reports and papers. Textual description of experimental findings is important, but most readers look at figures and images first when they skim through a paper.  Let's use ggplot again -- if you need a quick reference, [here](https://ggplot2.tidyverse.org/reference/index.html) is the documentation. "
   ]
  },
  {
   "cell_type": "markdown",
   "metadata": {},
   "source": [
    "Since in the previous section we determined that there is a definite linear relationship between these two measurements, let's now add the regression line on a  scatter plot. This can be done by adding another geometry \"layer\" on top of the point geometry. ```geom_smooth()``` takes a method argument (which in our case is a linear model) \"smoothes\" the data by plotting the result of the linear model to guide the eye of the reader and point out the relationship between ALT and AST. Here, ggplot automatically does the regression of $y\\sim x$. "
   ]
  },
  {
   "cell_type": "code",
   "execution_count": 19,
   "metadata": {
    "scrolled": true
   },
   "outputs": [
    {
     "name": "stderr",
     "output_type": "stream",
     "text": [
      "`geom_smooth()` using formula 'y ~ x'\n",
      "\n",
      "Warning message:\n",
      "“Removed 1 rows containing non-finite values (stat_smooth).”\n",
      "Warning message:\n",
      "“Removed 1 rows containing missing values (geom_point).”\n"
     ]
    },
    {
     "data": {
      "image/png": "[encoded data removed]",
      "text/plain": [
       "plot without title"
      ]
     },
     "metadata": {
      "image/png": {
       "height": 420,
       "width": 420
      }
     },
     "output_type": "display_data"
    }
   ],
   "source": [
    "ggplot(nafldDataset, aes(x=alt, y=ast)) + geom_point() + geom_smooth(method=lm)"
   ]
  },
  {
   "cell_type": "markdown",
   "metadata": {},
   "source": [
    "Plots created with ```ggplot2``` can further be refined (e.g. axis labels and axis limits can be changed, legend can be added). You can find a very useful and succint overview of possibilities on this [cheat sheet](https://github.com/rstudio/cheatsheets/blob/master/data-visualization-2.1.pdf).  \n",
    "\n",
    "* **Q3.5:** Using the FIB-4 score values determined in the previous question, create a boxplot showing the distribution of FIB-4 scores across fibrosis stages. Label the x axis as \"Fibrosis stage\" and the y axis as \"FIB-4 score\"."
   ]
  },
  {
   "cell_type": "markdown",
   "metadata": {},
   "source": [
    "### Linear regression and Anova \n",
    "\n",
    "We've done _simple_ linear regression above and it's relatively easy to understand what is going on. \n",
    "Let's make it more complicated and look for explaining one thing as a function of others -- say, for example, let's try to \"explain\" ALT by including age as well as AST: "
   ]
  },
  {
   "cell_type": "code",
   "execution_count": 34,
   "metadata": {},
   "outputs": [
    {
     "data": {
      "text/html": [
       "<style>\n",
       ".list-inline {list-style: none; margin:0; padding: 0}\n",
       ".list-inline>li {display: inline-block}\n",
       ".list-inline>li:not(:last-child)::after {content: \"\\00b7\"; padding: 0 .5ex}\n",
       "</style>\n",
       "<ol class=list-inline><li>'country'</li><li>'continent'</li><li>'centre'</li><li>'gender'</li><li>'age'</li><li>'height'</li><li>'weight'</li><li>'bmi'</li><li>'waist_circ'</li><li>'dm2'</li><li>'plt'</li><li>'alt'</li><li>'ast'</li><li>'ggt'</li><li>'hdl_chol'</li><li>'tg'</li><li>'fglu'</li><li>'bx_date'</li><li>'bx_length'</li><li>'bx_fib'</li><li>'bx_nas'</li><li>'te_date'</li><li>'bx_te_days'</li><li>'probe'</li><li>'valid_shots'</li><li>'lsm'</li><li>'iqr'</li><li>'iqr_median'</li><li>'success'</li></ol>\n"
      ],
      "text/latex": [
       "\\begin{enumerate*}\n",
       "\\item 'country'\n",
       "\\item 'continent'\n",
       "\\item 'centre'\n",
       "\\item 'gender'\n",
       "\\item 'age'\n",
       "\\item 'height'\n",
       "\\item 'weight'\n",
       "\\item 'bmi'\n",
       "\\item 'waist\\_circ'\n",
       "\\item 'dm2'\n",
       "\\item 'plt'\n",
       "\\item 'alt'\n",
       "\\item 'ast'\n",
       "\\item 'ggt'\n",
       "\\item 'hdl\\_chol'\n",
       "\\item 'tg'\n",
       "\\item 'fglu'\n",
       "\\item 'bx\\_date'\n",
       "\\item 'bx\\_length'\n",
       "\\item 'bx\\_fib'\n",
       "\\item 'bx\\_nas'\n",
       "\\item 'te\\_date'\n",
       "\\item 'bx\\_te\\_days'\n",
       "\\item 'probe'\n",
       "\\item 'valid\\_shots'\n",
       "\\item 'lsm'\n",
       "\\item 'iqr'\n",
       "\\item 'iqr\\_median'\n",
       "\\item 'success'\n",
       "\\end{enumerate*}\n"
      ],
      "text/markdown": [
       "1. 'country'\n",
       "2. 'continent'\n",
       "3. 'centre'\n",
       "4. 'gender'\n",
       "5. 'age'\n",
       "6. 'height'\n",
       "7. 'weight'\n",
       "8. 'bmi'\n",
       "9. 'waist_circ'\n",
       "10. 'dm2'\n",
       "11. 'plt'\n",
       "12. 'alt'\n",
       "13. 'ast'\n",
       "14. 'ggt'\n",
       "15. 'hdl_chol'\n",
       "16. 'tg'\n",
       "17. 'fglu'\n",
       "18. 'bx_date'\n",
       "19. 'bx_length'\n",
       "20. 'bx_fib'\n",
       "21. 'bx_nas'\n",
       "22. 'te_date'\n",
       "23. 'bx_te_days'\n",
       "24. 'probe'\n",
       "25. 'valid_shots'\n",
       "26. 'lsm'\n",
       "27. 'iqr'\n",
       "28. 'iqr_median'\n",
       "29. 'success'\n",
       "\n",
       "\n"
      ],
      "text/plain": [
       " [1] \"country\"     \"continent\"   \"centre\"      \"gender\"      \"age\"        \n",
       " [6] \"height\"      \"weight\"      \"bmi\"         \"waist_circ\"  \"dm2\"        \n",
       "[11] \"plt\"         \"alt\"         \"ast\"         \"ggt\"         \"hdl_chol\"   \n",
       "[16] \"tg\"          \"fglu\"        \"bx_date\"     \"bx_length\"   \"bx_fib\"     \n",
       "[21] \"bx_nas\"      \"te_date\"     \"bx_te_days\"  \"probe\"       \"valid_shots\"\n",
       "[26] \"lsm\"         \"iqr\"         \"iqr_median\"  \"success\"    "
      ]
     },
     "metadata": {},
     "output_type": "display_data"
    },
    {
     "data": {
      "text/plain": [
       "\n",
       "Call:\n",
       "lm(formula = alt ~ age + ast, data = nafldDataset)\n",
       "\n",
       "Residuals:\n",
       "    Min      1Q  Median      3Q     Max \n",
       "-66.018 -14.273  -2.874  11.021  61.798 \n",
       "\n",
       "Coefficients:\n",
       "            Estimate Std. Error t value Pr(>|t|)    \n",
       "(Intercept)  77.3527    14.1713   5.458 6.29e-07 ***\n",
       "age          -1.1810     0.2293  -5.150 2.13e-06 ***\n",
       "ast           0.9827     0.1060   9.269 5.83e-14 ***\n",
       "---\n",
       "Signif. codes:  0 ‘***’ 0.001 ‘**’ 0.01 ‘*’ 0.05 ‘.’ 0.1 ‘ ’ 1\n",
       "\n",
       "Residual standard error: 22.05 on 73 degrees of freedom\n",
       "  (1 observation deleted due to missingness)\n",
       "Multiple R-squared:  0.673,\tAdjusted R-squared:  0.6641 \n",
       "F-statistic: 75.13 on 2 and 73 DF,  p-value: < 2.2e-16\n"
      ]
     },
     "metadata": {},
     "output_type": "display_data"
    }
   ],
   "source": [
    "colnames(nafldDataset)\n",
    "summary(lm(alt~age+ast, data=nafldDataset))"
   ]
  },
  {
   "cell_type": "markdown",
   "metadata": {},
   "source": [
    "Ahh, this is interesting! So, it looks like ALT decreases significantly with age. Let's try to plot this, and have a look: "
   ]
  },
  {
   "cell_type": "code",
   "execution_count": 38,
   "metadata": {},
   "outputs": [
    {
     "name": "stderr",
     "output_type": "stream",
     "text": [
      "Warning message:\n",
      "“Removed 1 rows containing missing values (geom_point).”\n"
     ]
    },
    {
     "data": {
      "image/png": "[encoded data removed]",
      "text/plain": [
       "plot without title"
      ]
     },
     "metadata": {
      "image/png": {
       "height": 240,
       "width": 300
      }
     },
     "output_type": "display_data"
    }
   ],
   "source": [
    "ggplot(data=nafldDataset) + geom_point(aes(x=ast,y=alt,color=age))"
   ]
  },
  {
   "cell_type": "markdown",
   "metadata": {},
   "source": [
    "Interesting. But also a bit unclear -- we've got a point cloud in 3D and w'ere looking at different slices of it. Let's look at it \"rotated\" by 90º: "
   ]
  },
  {
   "cell_type": "code",
   "execution_count": 39,
   "metadata": {},
   "outputs": [
    {
     "data": {
      "image/png": "[encoded data removed]",
      "text/plain": [
       "plot without title"
      ]
     },
     "metadata": {
      "image/png": {
       "height": 240,
       "width": 300
      }
     },
     "output_type": "display_data"
    }
   ],
   "source": [
    "ggplot(data=nafldDataset) + geom_point(aes(x=age,y=alt,color=ast))"
   ]
  },
  {
   "cell_type": "markdown",
   "metadata": {},
   "source": [
    "So, ALT _definitely_ drops with age, and increases as AST does. This is a good example of a multivariate database with a lot of complex relationships behind it. \n",
    "\n",
    "How does this relate to Anova? Well, the full, detailed explanation of how Anova works is really quite long (and if you're interested in finding out, here is a great [link](https://dzchilds.github.io/stats-for-bio/introduction-to-one-way-anova.html) to an e-book in R that goes through a detailed, understandable explanation of what's really going on behind the scenes. \n",
    "\n",
    "If you want to ask the question \"if I've got multiple variables, does the thing I'm interested in change as I vary them?\" then this is a great way to do it. And as ever, in R, it's a built-in function that does the heavy lifting: "
   ]
  },
  {
   "cell_type": "code",
   "execution_count": 40,
   "metadata": {},
   "outputs": [
    {
     "data": {
      "text/html": [
       "<table class=\"dataframe\">\n",
       "<caption>A anova: 3 × 5</caption>\n",
       "<thead>\n",
       "\t<tr><th></th><th scope=col>Df</th><th scope=col>Sum Sq</th><th scope=col>Mean Sq</th><th scope=col>F value</th><th scope=col>Pr(&gt;F)</th></tr>\n",
       "\t<tr><th></th><th scope=col>&lt;int&gt;</th><th scope=col>&lt;dbl&gt;</th><th scope=col>&lt;dbl&gt;</th><th scope=col>&lt;dbl&gt;</th><th scope=col>&lt;dbl&gt;</th></tr>\n",
       "</thead>\n",
       "<tbody>\n",
       "\t<tr><th scope=row>age</th><td> 1</td><td>31295.23</td><td>31295.234</td><td>64.34913</td><td>1.281526e-11</td></tr>\n",
       "\t<tr><th scope=row>ast</th><td> 1</td><td>41786.31</td><td>41786.312</td><td>85.92084</td><td>5.830743e-14</td></tr>\n",
       "\t<tr><th scope=row>Residuals</th><td>73</td><td>35502.45</td><td>  486.335</td><td>      NA</td><td>          NA</td></tr>\n",
       "</tbody>\n",
       "</table>\n"
      ],
      "text/latex": [
       "A anova: 3 × 5\n",
       "\\begin{tabular}{r|lllll}\n",
       "  & Df & Sum Sq & Mean Sq & F value & Pr(>F)\\\\\n",
       "  & <int> & <dbl> & <dbl> & <dbl> & <dbl>\\\\\n",
       "\\hline\n",
       "\tage &  1 & 31295.23 & 31295.234 & 64.34913 & 1.281526e-11\\\\\n",
       "\tast &  1 & 41786.31 & 41786.312 & 85.92084 & 5.830743e-14\\\\\n",
       "\tResiduals & 73 & 35502.45 &   486.335 &       NA &           NA\\\\\n",
       "\\end{tabular}\n"
      ],
      "text/markdown": [
       "\n",
       "A anova: 3 × 5\n",
       "\n",
       "| <!--/--> | Df &lt;int&gt; | Sum Sq &lt;dbl&gt; | Mean Sq &lt;dbl&gt; | F value &lt;dbl&gt; | Pr(&gt;F) &lt;dbl&gt; |\n",
       "|---|---|---|---|---|---|\n",
       "| age |  1 | 31295.23 | 31295.234 | 64.34913 | 1.281526e-11 |\n",
       "| ast |  1 | 41786.31 | 41786.312 | 85.92084 | 5.830743e-14 |\n",
       "| Residuals | 73 | 35502.45 |   486.335 |       NA |           NA |\n",
       "\n"
      ],
      "text/plain": [
       "          Df Sum Sq   Mean Sq   F value  Pr(>F)      \n",
       "age        1 31295.23 31295.234 64.34913 1.281526e-11\n",
       "ast        1 41786.31 41786.312 85.92084 5.830743e-14\n",
       "Residuals 73 35502.45   486.335       NA           NA"
      ]
     },
     "metadata": {},
     "output_type": "display_data"
    }
   ],
   "source": [
    "anova(lm(alt~age+ast, data=nafldDataset))"
   ]
  },
  {
   "cell_type": "markdown",
   "metadata": {},
   "source": [
    "This tells us that both age and AST have a significant effect. And the $p$-values are different to the $t$-test p-values that they're significantly different to zero -- but that's because we've really \"hidden\" the mathematical detail here, to quite some extent. \n",
    "\n",
    "One thing I should say is that it's possible with more than two variables to have _interactions_ between them. For example, let's say I measure two things: gender, and a blood biomarker I'm interested in, $x$, in patients. I give them either a drug or a control pill, and measure an output (another blood biomarker, $y$, let's say). Now, the regression I may want to do here is `y ~ x + gender + drug`. If the drug has an effect, we'd expect the regression term for it to be nonzero and an anova to be significant. But what happens if the drug turns out to only work condtionally on another variable -- say it cures women and does nothing to men? Or it helps if $x$ is less than a concentration, but hinders if it is above it? \n",
    "\n",
    "This is an example of an interaction. They're complex, and often difficult to understand -- because the change that a factor has, whether it's positive or negative, depends on the value of other things. Arguably it changes how you interpret the results -- for that reason, many people suggest only including them in a model if they are significant, and looking for them first to see if they are there. \n",
    "\n",
    "Mathematically, this layering of results results in a product of terms in a linear regression; in R searching for an interaction is as simple as typing `*` rather than `+` and the result is told to you as a \"`:`\" in the anova table, indicating the interaction and its p-value.  \n",
    "\n",
    "For example: "
   ]
  },
  {
   "cell_type": "code",
   "execution_count": 41,
   "metadata": {},
   "outputs": [
    {
     "data": {
      "text/html": [
       "<table class=\"dataframe\">\n",
       "<caption>A anova: 4 × 5</caption>\n",
       "<thead>\n",
       "\t<tr><th></th><th scope=col>Df</th><th scope=col>Sum Sq</th><th scope=col>Mean Sq</th><th scope=col>F value</th><th scope=col>Pr(&gt;F)</th></tr>\n",
       "\t<tr><th></th><th scope=col>&lt;int&gt;</th><th scope=col>&lt;dbl&gt;</th><th scope=col>&lt;dbl&gt;</th><th scope=col>&lt;dbl&gt;</th><th scope=col>&lt;dbl&gt;</th></tr>\n",
       "</thead>\n",
       "<tbody>\n",
       "\t<tr><th scope=row>age</th><td> 1</td><td>31295.234</td><td>31295.234</td><td>73.67016</td><td>1.249887e-12</td></tr>\n",
       "\t<tr><th scope=row>ast</th><td> 1</td><td>41786.312</td><td>41786.312</td><td>98.36655</td><td>4.178022e-15</td></tr>\n",
       "\t<tr><th scope=row>age:ast</th><td> 1</td><td> 4916.707</td><td> 4916.707</td><td>11.57411</td><td>1.095054e-03</td></tr>\n",
       "\t<tr><th scope=row>Residuals</th><td>72</td><td>30585.747</td><td>  424.802</td><td>      NA</td><td>          NA</td></tr>\n",
       "</tbody>\n",
       "</table>\n"
      ],
      "text/latex": [
       "A anova: 4 × 5\n",
       "\\begin{tabular}{r|lllll}\n",
       "  & Df & Sum Sq & Mean Sq & F value & Pr(>F)\\\\\n",
       "  & <int> & <dbl> & <dbl> & <dbl> & <dbl>\\\\\n",
       "\\hline\n",
       "\tage &  1 & 31295.234 & 31295.234 & 73.67016 & 1.249887e-12\\\\\n",
       "\tast &  1 & 41786.312 & 41786.312 & 98.36655 & 4.178022e-15\\\\\n",
       "\tage:ast &  1 &  4916.707 &  4916.707 & 11.57411 & 1.095054e-03\\\\\n",
       "\tResiduals & 72 & 30585.747 &   424.802 &       NA &           NA\\\\\n",
       "\\end{tabular}\n"
      ],
      "text/markdown": [
       "\n",
       "A anova: 4 × 5\n",
       "\n",
       "| <!--/--> | Df &lt;int&gt; | Sum Sq &lt;dbl&gt; | Mean Sq &lt;dbl&gt; | F value &lt;dbl&gt; | Pr(&gt;F) &lt;dbl&gt; |\n",
       "|---|---|---|---|---|---|\n",
       "| age |  1 | 31295.234 | 31295.234 | 73.67016 | 1.249887e-12 |\n",
       "| ast |  1 | 41786.312 | 41786.312 | 98.36655 | 4.178022e-15 |\n",
       "| age:ast |  1 |  4916.707 |  4916.707 | 11.57411 | 1.095054e-03 |\n",
       "| Residuals | 72 | 30585.747 |   424.802 |       NA |           NA |\n",
       "\n"
      ],
      "text/plain": [
       "          Df Sum Sq    Mean Sq   F value  Pr(>F)      \n",
       "age        1 31295.234 31295.234 73.67016 1.249887e-12\n",
       "ast        1 41786.312 41786.312 98.36655 4.178022e-15\n",
       "age:ast    1  4916.707  4916.707 11.57411 1.095054e-03\n",
       "Residuals 72 30585.747   424.802       NA           NA"
      ]
     },
     "metadata": {},
     "output_type": "display_data"
    }
   ],
   "source": [
    "anova(lm(alt~age*ast, data=nafldDataset))"
   ]
  },
  {
   "cell_type": "markdown",
   "metadata": {},
   "source": [
    "* **Q3.6:** Try and understand what this means (hint: plotting subsets of data might help, as might the resources linked above, specifically [this](https://dzchilds.github.io/stats-for-bio/two-way-anova-in-r.html#interpreting-the-results-1) page)"
   ]
  },
  {
   "cell_type": "markdown",
   "metadata": {},
   "source": [
    "#  Neatly reporting your findings\n",
    "Data analysis and plotting are essential parts of evaluating the results of an experiment or set of experiments. However, reporting those results is equally important and R can help with that too! Reports can be generated from R directly, using various packages - and the results can be saved in HTML, LaTeX, LaTeX beamer, DocBook XML, RTF and even Word docx formats.  This is occasionally very handy! \n",
    "\n",
    "\n",
    "In this section we will use the __knitr__ and __markdown__ packages to generate an HTML and a docx version of a report that will contain a subset of our NAFLD patient data set, some statistical analysis, plots and text to describe our findings. We will use the markdown convention to write our report in R. Markdown is a simplified document format, which allows to encode formatting (e.g. lists, bold face, tables, links) to be defined in a text-only fashion. Markdown documents are then turned into HTML, XML, LaTeX or PDF documents in which all text appears nicely formatted."
   ]
  },
  {
   "cell_type": "markdown",
   "metadata": {},
   "source": [
    "All the code presented in this section (unless specified otherwise) will need to be saved in a file with the .Rmd extension.  \n",
    "\n",
    "The header of our report file will define the title, author and document type we want to get in the end:  \n",
    "\n",
    "```\n",
    "---\n",
    "title: \"Brief report on NAFLD patients\"\n",
    "author: \"Ferenc Mozes\"\n",
    "date: \"17/01/2021\"\n",
    "output: word_document\n",
    "---\n",
    "```\n",
    "\n",
    "We will start filling up the report by first inserting our data table. Since we haven't used all columns from the NAFLD data frame, we will restrict ourselves to including only the most relevant ones. Instead of manually copying data from the data frame, we will use __knitr__'s kable function to generate a markdown table and insert it into our report:\n",
    "\n",
    "```\n",
    "knitr::kable(nafldDataset[c(\"alt\", \"ast\", \"tg\", \"bmi\", \"lsm\", \"probe\")], \n",
    "             format=\"markdown\", \n",
    "             caption=\"NAFLD patient data. ALT, AST, BMI and triglycerides are listed in addition \n",
    "                      to liver stiffness measurements and FibroScan probe type.\",\n",
    "             col.names=c(\"ALT (IU/l)\", \"AST (IU/l)\", \"TG (mg/dl)\", \"BMI (kg/m2)\", \"LSM (kPa)\",\"Probe type\"),\n",
    "             align=\"cccccc\")\n",
    "```\n",
    "\n",
    "Then we will include the output of the correlation analysis (between BMI and triglycerides) and the results of the linear model (between AST and ALT).  \n",
    "\n",
    "```\n",
    "```{r corr}\n",
    "cor.test(nafldDataset$bmi[!is.na(nafldDataset$bmi) & !is.na(nafldDataset$tg)], \n",
    "    nafldDataset$tg[!is.na(nafldDataset$bmi) & !is.na(nafldDataset$tg)])\n",
    "``````\n",
    "\n",
    "```\n",
    "```{r lm}\n",
    "regressionRes <- lm(ast~alt, data=nafldDataset)\n",
    "summary(regressionRes)\n",
    "``````\n",
    "\n",
    "Note how code chunks are preceded by ```{r label}```. This instructs the markdown translator to evaluate the code chunk as if it were a piece of R code (which it is!). It is also noteworthy that all code chunks need to be enclosed between triple backticks (or graves).  \n",
    "We will finally insert a scatter plot visualising the linear relationship between AST and ALT.\n",
    "\n",
    "```\n",
    "```{r lm_fig, fig.cap = \"The relationship between AST and ALT in morbidly obese patients with NAFLD\"}\n",
    "ggplot(nafldDataset, aes(x=alt, y=ast)) + geom_point() + geom_smooth(method=lm)\n",
    "``````\n",
    "\n",
    "You can of course (and are encouraged to!) add explanations and interpretations of the statistical analysis you're doing, as a large part of reporting also consists of pointing out relationship and discussing findings. But for our example, the markdown code presented so far should be enough to give you an idea how reports can be generated.  \n",
    "The final step is to actually export the markdown document into a formatted document:"
   ]
  },
  {
   "cell_type": "code",
   "execution_count": 74,
   "metadata": {},
   "outputs": [
    {
     "name": "stderr",
     "output_type": "stream",
     "text": [
      "\n",
      "\n",
      "processing file: nafld_report.Rmd\n"
     ]
    },
    {
     "name": "stdout",
     "output_type": "stream",
     "text": [
      "  |......                                                           |  10%\n",
      "  ordinary text without R code\n",
      "\n",
      "  |.............                                                    |  20%\n",
      "label: setup (with options) \n",
      "List of 1\n",
      " $ include: logi FALSE\n",
      "\n",
      "  |....................                                             |  30%\n",
      "  ordinary text without R code\n",
      "\n",
      "  |..........................                                       |  40%\n",
      "label: table (with options) \n",
      "List of 1\n",
      " $ echo: logi FALSE\n",
      "\n",
      "  |................................                                 |  50%\n",
      "  ordinary text without R code\n",
      "\n",
      "  |.......................................                          |  60%\n",
      "label: corr\n",
      "  |..............................................                   |  70%\n",
      "  ordinary text without R code\n",
      "\n",
      "  |....................................................             |  80%\n",
      "label: lm\n",
      "  |..........................................................       |  90%\n",
      "  ordinary text without R code\n",
      "\n",
      "  |.................................................................| 100%\n",
      "label: lm_fig (with options) \n",
      "List of 1\n",
      " $ fig.cap: chr \"The relationship between AST and ALT in morbidly obese patients with NAFLD\"\n",
      "\n",
      "\n"
     ]
    },
    {
     "name": "stderr",
     "output_type": "stream",
     "text": [
      "output file: nafld_report.knit.md\n",
      "\n"
     ]
    },
    {
     "name": "stdout",
     "output_type": "stream",
     "text": [
      "/Users/mferenc/Documents/anaconda/anaconda3/envs/Rtuts/bin/pandoc +RTS -K512m -RTS nafld_report.utf8.md --to docx --from markdown+autolink_bare_uris+ascii_identifiers+tex_math_single_backslash+smart --output nafld_report.docx --highlight-style tango \n"
     ]
    },
    {
     "name": "stderr",
     "output_type": "stream",
     "text": [
      "\n",
      "Output created: nafld_report.docx\n",
      "\n",
      "\n",
      "processing file: nafld_report.Rmd\n"
     ]
    },
    {
     "name": "stdout",
     "output_type": "stream",
     "text": [
      "  |......                                                           |  10%\n",
      "  ordinary text without R code\n",
      "\n",
      "  |.............                                                    |  20%\n",
      "label: setup (with options) \n",
      "List of 1\n",
      " $ include: logi FALSE\n",
      "\n",
      "  |....................                                             |  30%\n",
      "  ordinary text without R code\n",
      "\n",
      "  |..........................                                       |  40%\n",
      "label: table (with options) \n",
      "List of 1\n",
      " $ echo: logi FALSE\n",
      "\n",
      "  |................................                                 |  50%\n",
      "  ordinary text without R code\n",
      "\n",
      "  |.......................................                          |  60%\n",
      "label: corr\n",
      "  |..............................................                   |  70%\n",
      "  ordinary text without R code\n",
      "\n",
      "  |....................................................             |  80%\n",
      "label: lm\n",
      "  |..........................................................       |  90%\n",
      "  ordinary text without R code\n",
      "\n",
      "  |.................................................................| 100%\n",
      "label: lm_fig (with options) \n",
      "List of 1\n",
      " $ fig.cap: chr \"The relationship between AST and ALT in morbidly obese patients with NAFLD\"\n",
      "\n",
      "\n"
     ]
    },
    {
     "name": "stderr",
     "output_type": "stream",
     "text": [
      "output file: nafld_report.knit.md\n",
      "\n"
     ]
    },
    {
     "name": "stdout",
     "output_type": "stream",
     "text": [
      "/Users/mferenc/Documents/anaconda/anaconda3/envs/Rtuts/bin/pandoc +RTS -K512m -RTS nafld_report.utf8.md --to html4 --from markdown+autolink_bare_uris+ascii_identifiers+tex_math_single_backslash+smart --output nafld_report.html --email-obfuscation none --self-contained --standalone --section-divs --template /Users/mferenc/Documents/anaconda/anaconda3/envs/Rtuts/lib/R/library/rmarkdown/rmd/h/default.html --no-highlight --variable highlightjs=1 --variable 'theme:bootstrap' --include-in-header /var/folders/ky/fhnqjvsd6k90qqxy48cf8vsc0000gn/T//RtmpqPCqmT/rmarkdown-str5f551f618f1f.html --mathjax --variable 'mathjax-url:https://mathjax.rstudio.com/latest/MathJax.js?config=TeX-AMS-MML_HTMLorMML' \n"
     ]
    },
    {
     "name": "stderr",
     "output_type": "stream",
     "text": [
      "\n",
      "Output created: nafld_report.html\n"
     ]
    }
   ],
   "source": [
    "library(rmarkdown)\n",
    "# Export into a Word (docx) document\n",
    "render(\"nafld_report.Rmd\", output_format = \"word_document\")\n",
    "# Export into a PDF document (via LaTeX) - may not work in the Jupyter notebook\n",
    "# render(\"nafld_report.Rmd\", output_format = \"pdf_document\")\n",
    "# Export into a HTML web page\n",
    "render(\"nafld_report.Rmd\", output_format = \"html_document\")\n"
   ]
  }
 ],
 "metadata": {
  "kernelspec": {
   "display_name": "R",
   "language": "R",
   "name": "ir"
  },
  "language_info": {
   "codemirror_mode": "r",
   "file_extension": ".r",
   "mimetype": "text/x-r-source",
   "name": "R",
   "pygments_lexer": "r",
   "version": "3.6.1"
  }
 },
 "nbformat": 4,
 "nbformat_minor": 4
}
